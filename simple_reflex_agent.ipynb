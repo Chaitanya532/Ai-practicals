{
 "cells": [
  {
   "cell_type": "markdown",
   "id": "6e64f97a-3476-4f9d-b5ec-10df1740fa95",
   "metadata": {},
   "source": [
    "## SMART LIGHT AGENT"
   ]
  },
  {
   "cell_type": "code",
   "execution_count": null,
   "id": "bb5f7975-a3ba-41bc-a9c9-009d1ed99f51",
   "metadata": {},
   "outputs": [],
   "source": []
  },
  {
   "cell_type": "code",
   "execution_count": 4,
   "id": "1b7fb891-7c60-4747-9f83-dff875a86049",
   "metadata": {},
   "outputs": [
    {
     "name": "stdin",
     "output_type": "stream",
     "text": [
      "Is the daylight there:? yes\n",
      "Is the human there:? yes\n"
     ]
    },
    {
     "name": "stdout",
     "output_type": "stream",
     "text": [
      "LIGHT OFF\n"
     ]
    }
   ],
   "source": [
    "is_day_light = input(\"Is the daylight there:?\").lower()\n",
    "is_human_there = input(\"Is the human there:?\").lower()\n",
    "if is_day_light == \"no\" or is_day_light == \"n\"  and is_human_there == \"yes\" or is_human_there == \"y\":\n",
    "    print(\"LIGHT ON\")\n",
    "else:\n",
    "    print(\"LIGHT OFF\")"
   ]
  },
  {
   "cell_type": "markdown",
   "id": "661dced0-cd84-4585-90b8-e6592d81a065",
   "metadata": {},
   "source": [
    "## VEHICLE AGENT"
   ]
  },
  {
   "cell_type": "code",
   "execution_count": 4,
   "id": "9b299eb4-c19b-4734-b0a2-7d5161bec93f",
   "metadata": {},
   "outputs": [
    {
     "name": "stdin",
     "output_type": "stream",
     "text": [
      "Vehicle coming ?  Y\n",
      "Toll paid ?  Y\n"
     ]
    }
   ],
   "source": [
    "is_vehicle_there = input(\"Vehicle coming ? \").lower()\n",
    "is_toll_paid = input(\"Toll paid ? \").lower()"
   ]
  },
  {
   "cell_type": "code",
   "execution_count": 5,
   "id": "6dac5165-8ffc-4e59-86ab-eced49307a2f",
   "metadata": {},
   "outputs": [
    {
     "name": "stdout",
     "output_type": "stream",
     "text": [
      "GATE OPEN\n"
     ]
    }
   ],
   "source": [
    "if is_vehicle_there == \"yes\" or is_vehicle_there == \"y\"  and is_toll_paid == \"yes\" or is_toll_paid == \"y\":\n",
    "    print(\"GATE OPEN\")\n",
    "else:\n",
    "    print(\"GATE  CLOSE\")"
   ]
  }
 ],
 "metadata": {
  "kernelspec": {
   "display_name": "Python [conda env:base] *",
   "language": "python",
   "name": "conda-base-py"
  },
  "language_info": {
   "codemirror_mode": {
    "name": "ipython",
    "version": 3
   },
   "file_extension": ".py",
   "mimetype": "text/x-python",
   "name": "python",
   "nbconvert_exporter": "python",
   "pygments_lexer": "ipython3",
   "version": "3.13.5"
  }
 },
 "nbformat": 4,
 "nbformat_minor": 5
}
