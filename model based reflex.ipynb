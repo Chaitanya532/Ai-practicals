{
 "cells": [
  {
   "cell_type": "code",
   "execution_count": 5,
   "id": "6cf65e6f-7509-4bc1-bb64-64ad75181cd6",
   "metadata": {},
   "outputs": [
    {
     "name": "stdin",
     "output_type": "stream",
     "text": [
      "Is lab 5 is clean (yes/no): yes\n",
      "Is lab 6 is clean (yes/no): no\n"
     ]
    },
    {
     "name": "stdout",
     "output_type": "stream",
     "text": [
      "clean AIds lab 6\n"
     ]
    }
   ],
   "source": [
    "AIDS_Lab_05 = input(\"Is lab 5 is clean (yes/no):\").lower()\n",
    "AIDS_Lab_06 = input(\"Is lab 6 is clean (yes/no):\").lower()\n",
    "if AIDS_Lab_05 == \"yes\" and AIDS_Lab_06 ==\"no\":\n",
    "    print(\"clean AIds lab 6\")\n",
    "elif AIDS_Lab_05 ==\"no\" and AIDS_Lab_06 ==\"yes\":\n",
    "    print(\"clean in Aids lab 5\")\n",
    "elif AIDS_Lab_05 ==\"no\" and AIDS_Lab_06 ==\"no\":\n",
    "    print(\"Clean both the lab\")\n",
    "else:\n",
    "    print(\"Both lab are clean and  ready to use\")"
   ]
  },
  {
   "cell_type": "code",
   "execution_count": null,
   "id": "10e7bfef-fc0e-4568-a7c4-1289f48d844f",
   "metadata": {},
   "outputs": [],
   "source": []
  }
 ],
 "metadata": {
  "kernelspec": {
   "display_name": "Python [conda env:base] *",
   "language": "python",
   "name": "conda-base-py"
  },
  "language_info": {
   "codemirror_mode": {
    "name": "ipython",
    "version": 3
   },
   "file_extension": ".py",
   "mimetype": "text/x-python",
   "name": "python",
   "nbconvert_exporter": "python",
   "pygments_lexer": "ipython3",
   "version": "3.13.5"
  }
 },
 "nbformat": 4,
 "nbformat_minor": 5
}
